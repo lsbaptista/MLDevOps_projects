{
 "cells": [
  {
   "cell_type": "code",
   "execution_count": 1,
   "id": "29d539c9-36da-4ddb-92ff-bc221b5053a9",
   "metadata": {},
   "outputs": [],
   "source": [
    "import requests"
   ]
  },
  {
   "cell_type": "code",
   "execution_count": 2,
   "id": "42d8b110-9372-4810-8e2d-a0ed602dec3d",
   "metadata": {},
   "outputs": [],
   "source": [
    "import json"
   ]
  },
  {
   "cell_type": "code",
   "execution_count": 4,
   "id": "7fd31122-c1be-4a84-bd01-1952d325f0d9",
   "metadata": {},
   "outputs": [],
   "source": [
    "with open(\"model/serving_input_example.json\") as fp:\n",
    "    data=json.load(fp)"
   ]
  },
  {
   "cell_type": "code",
   "execution_count": 5,
   "id": "a633eda7-9f51-4f61-a1da-9c0456ae863d",
   "metadata": {},
   "outputs": [
    {
     "name": "stdout",
     "output_type": "stream",
     "text": [
      "{'dataframe_split': {'columns': ['Unnamed: 0.1', 'Unnamed: 0', 'danceability', 'energy', 'key', 'loudness', 'mode', 'speechiness', 'acousticness', 'instrumentalness', 'liveness', 'valence', 'tempo', 'type', 'duration_ms', 'time_signature', 'song_name', 'title', 'text_feature'], 'data': [[7192, 7192, 0.903, 0.703, 0, -5.654, 1, 0.322, 0.0168, 0.0, 0.126, 0.8109999999999999, 137.977, 'audio_features', 226087, 4, 'BITTER (Feat. ZOTiYAC)', None, ' BITTER (Feat. ZOTiYAC)'], [16886, 16886, 0.285, 0.329, 8, -12.212, 1, 0.0446, 0.526, 0.0205, 0.158, 0.148, 159.409, 'audio_features', 376061, 3, 'SAVAGE ANTHEM', None, ' SAVAGE ANTHEM']]}}\n"
     ]
    }
   ],
   "source": [
    "print(data)"
   ]
  },
  {
   "cell_type": "code",
   "execution_count": 6,
   "id": "490168da-f9f8-441f-a132-9080eb934cf8",
   "metadata": {},
   "outputs": [],
   "source": [
    "results=requests.post(\"http://localhost:5000/invocations\", json=data)"
   ]
  },
  {
   "cell_type": "code",
   "execution_count": 7,
   "id": "6f40cdd1-c044-45b7-93ba-b19b5aeb6650",
   "metadata": {},
   "outputs": [
    {
     "data": {
      "text/plain": [
       "<Response [200]>"
      ]
     },
     "execution_count": 7,
     "metadata": {},
     "output_type": "execute_result"
    }
   ],
   "source": [
    "results"
   ]
  },
  {
   "cell_type": "code",
   "execution_count": 8,
   "id": "98bfaf3d-761e-491a-bc2b-853be75379fc",
   "metadata": {},
   "outputs": [
    {
     "name": "stdout",
     "output_type": "stream",
     "text": [
      "{'predictions': ['Rap', 'Emo']}\n"
     ]
    }
   ],
   "source": [
    "print(results.json())"
   ]
  },
  {
   "cell_type": "code",
   "execution_count": null,
   "id": "6321131b-b78e-44e9-acfb-d2a152a3e433",
   "metadata": {},
   "outputs": [],
   "source": []
  }
 ],
 "metadata": {
  "kernelspec": {
   "display_name": "Python 3 (ipykernel)",
   "language": "python",
   "name": "python3"
  },
  "language_info": {
   "codemirror_mode": {
    "name": "ipython",
    "version": 3
   },
   "file_extension": ".py",
   "mimetype": "text/x-python",
   "name": "python",
   "nbconvert_exporter": "python",
   "pygments_lexer": "ipython3",
   "version": "3.10.16"
  }
 },
 "nbformat": 4,
 "nbformat_minor": 5
}
